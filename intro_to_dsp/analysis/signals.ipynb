{
 "cells": [
  {
   "cell_type": "code",
   "execution_count": 1,
   "id": "endless-fields",
   "metadata": {
    "execution": {
     "iopub.execute_input": "2021-08-31T02:13:16.658785Z",
     "iopub.status.busy": "2021-08-31T02:13:16.658785Z",
     "iopub.status.idle": "2021-08-31T02:13:21.243722Z",
     "shell.execute_reply": "2021-08-31T02:13:21.242733Z",
     "shell.execute_reply.started": "2021-08-31T02:13:16.658785Z"
    },
    "tags": []
   },
   "outputs": [
    {
     "name": "stdout",
     "output_type": "stream",
     "text": [
      "Populating the interactive namespace from numpy and matplotlib\n"
     ]
    }
   ],
   "source": [
    "%pylab inline"
   ]
  },
  {
   "cell_type": "code",
   "execution_count": 2,
   "id": "activated-norwegian",
   "metadata": {
    "execution": {
     "iopub.execute_input": "2021-08-31T02:13:21.244717Z",
     "iopub.status.busy": "2021-08-31T02:13:21.243722Z",
     "iopub.status.idle": "2021-08-31T02:13:21.785301Z",
     "shell.execute_reply": "2021-08-31T02:13:21.785301Z",
     "shell.execute_reply.started": "2021-08-31T02:13:21.244717Z"
    },
    "tags": []
   },
   "outputs": [],
   "source": [
    "from ipywidgets import interact, interactive, fixed, interact_manual\n",
    "import ipywidgets as widgets"
   ]
  },
  {
   "cell_type": "code",
   "execution_count": 3,
   "id": "toxic-recovery",
   "metadata": {
    "execution": {
     "iopub.execute_input": "2021-08-31T02:13:21.787277Z",
     "iopub.status.busy": "2021-08-31T02:13:21.786280Z",
     "iopub.status.idle": "2021-08-31T02:13:24.127352Z",
     "shell.execute_reply": "2021-08-31T02:13:24.127352Z",
     "shell.execute_reply.started": "2021-08-31T02:13:21.787277Z"
    },
    "tags": []
   },
   "outputs": [
    {
     "data": {
      "application/vnd.jupyter.widget-view+json": {
       "model_id": "ceea6e3fd8d9409b95ec9c701d4ee556",
       "version_major": 2,
       "version_minor": 0
      },
      "text/plain": [
       "interactive(children=(FloatSlider(value=1.0, description='f1', max=2.0), FloatSlider(value=3.0, description='f…"
      ]
     },
     "metadata": {},
     "output_type": "display_data"
    }
   ],
   "source": [
    "def discrete_sinusoid_demo(f1, f2, csdisp):\n",
    "    fig = figure(figsize=(25, 8));\n",
    "    ax = fig.add_subplot(211)\n",
    "    fsampc, fsampd = 1000, 2\n",
    "    t = np.arange(0, 100, 1 / fsampc)\n",
    "    nd1 = np.arange(0, 100, 1)\n",
    "    sc1 = np.cos(2 * np.pi * (f1 / fsampd) * t)\n",
    "    sd1 = np.cos(2 * np.pi * (f1 / fsampd) * nd1)\n",
    "    if csdisp:\n",
    "        ax.plot(t, sc1, color=\"tab:blue\", alpha=0.3)\n",
    "    ax.stem(nd1, sd1, label=\"$\\sin (\\Omega_1n)$\")\n",
    "    ax.set_ylim(-2.2, 2.2)\n",
    "    ax.set_xticks(np.arange(0, 50, 1))\n",
    "    ax.set_xlim(0, 20)\n",
    "    plt.yticks(fontsize=20)\n",
    "    plt.xticks(fontsize=20)\n",
    "    ax.legend(fontsize=22)\n",
    "    ax.set_title(\"Sinusoidal Signal\", fontsize=20)\n",
    "\n",
    "    ax = fig.add_subplot(212)\n",
    "    t = np.arange(0, 100, 1 / fsampc)\n",
    "    nd1 = np.arange(0, 100, 1)\n",
    "    sc1 = np.cos(2 * np.pi * (f2 / fsampd) * t)\n",
    "    sd1 = np.cos(2 * np.pi * (f2 / fsampd) * nd1)\n",
    "    if csdisp:\n",
    "        ax.plot(t, sc1, color=\"tab:blue\", alpha=0.3)\n",
    "    ax.stem(nd1, sd1, label=\"$\\sin (\\Omega_1n)$\")\n",
    "    ax.set_ylim(-2.2, 2.2)\n",
    "    ax.set_xticks(np.arange(0, 50, 1))\n",
    "    ax.set_xlim(0, 20)\n",
    "    plt.yticks(fontsize=20)\n",
    "    plt.xticks(fontsize=20)\n",
    "    ax.legend(fontsize=22)\n",
    "    plt.tight_layout()\n",
    "\n",
    "interactive_plot = interactive(discrete_sinusoid_demo,\n",
    "                               f1=(0, 2, 0.1),\n",
    "                               f2=(0, 6, 0.1),\n",
    "                               csdisp=True)\n",
    "output = interactive_plot.children[-1]\n",
    "output.layout.width = '1400px'\n",
    "interactive_plot"
   ]
  },
  {
   "cell_type": "code",
   "execution_count": null,
   "id": "failing-nation",
   "metadata": {},
   "outputs": [],
   "source": []
  }
 ],
 "metadata": {
  "kernelspec": {
   "display_name": "Python 3",
   "language": "python",
   "name": "python3"
  },
  "language_info": {
   "codemirror_mode": {
    "name": "ipython",
    "version": 3
   },
   "file_extension": ".py",
   "mimetype": "text/x-python",
   "name": "python",
   "nbconvert_exporter": "python",
   "pygments_lexer": "ipython3",
   "version": "3.7.10"
  }
 },
 "nbformat": 4,
 "nbformat_minor": 5
}
