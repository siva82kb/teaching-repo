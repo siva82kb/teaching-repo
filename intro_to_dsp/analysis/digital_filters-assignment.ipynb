{
 "cells": [
  {
   "cell_type": "code",
   "execution_count": 1,
   "id": "46cfd51f-affa-49b4-b1e3-556265d970d0",
   "metadata": {
    "execution": {
     "iopub.execute_input": "2021-11-23T06:25:31.203389Z",
     "iopub.status.busy": "2021-11-23T06:25:31.203389Z",
     "iopub.status.idle": "2021-11-23T06:25:45.214120Z",
     "shell.execute_reply": "2021-11-23T06:25:45.213124Z",
     "shell.execute_reply.started": "2021-11-23T06:25:31.203389Z"
    },
    "tags": []
   },
   "outputs": [
    {
     "name": "stdout",
     "output_type": "stream",
     "text": [
      "Populating the interactive namespace from numpy and matplotlib\n"
     ]
    }
   ],
   "source": [
    "%pylab inline"
   ]
  },
  {
   "cell_type": "code",
   "execution_count": 2,
   "id": "070fd52b-de99-4f68-b6e9-7546f8854451",
   "metadata": {
    "execution": {
     "iopub.execute_input": "2021-11-23T06:25:45.216120Z",
     "iopub.status.busy": "2021-11-23T06:25:45.215120Z",
     "iopub.status.idle": "2021-11-23T06:25:45.230076Z",
     "shell.execute_reply": "2021-11-23T06:25:45.229078Z",
     "shell.execute_reply.started": "2021-11-23T06:25:45.216120Z"
    },
    "tags": []
   },
   "outputs": [],
   "source": [
    "outdir = \"output/digitalfilters/\""
   ]
  },
  {
   "cell_type": "code",
   "execution_count": 3,
   "id": "3fe363d7-fc56-4295-bafe-6e221635a648",
   "metadata": {
    "execution": {
     "iopub.execute_input": "2021-11-23T06:25:45.231073Z",
     "iopub.status.busy": "2021-11-23T06:25:45.231073Z",
     "iopub.status.idle": "2021-11-23T06:26:05.243572Z",
     "shell.execute_reply": "2021-11-23T06:26:05.242574Z",
     "shell.execute_reply.started": "2021-11-23T06:25:45.231073Z"
    },
    "tags": []
   },
   "outputs": [],
   "source": [
    "from scipy.signal import savgol_filter"
   ]
  },
  {
   "cell_type": "code",
   "execution_count": 4,
   "id": "6a428e0d-2e64-417a-a484-ddb12576fe95",
   "metadata": {
    "execution": {
     "iopub.execute_input": "2021-11-23T06:26:05.244569Z",
     "iopub.status.busy": "2021-11-23T06:26:05.244569Z",
     "iopub.status.idle": "2021-11-23T06:26:05.258531Z",
     "shell.execute_reply": "2021-11-23T06:26:05.257534Z",
     "shell.execute_reply.started": "2021-11-23T06:26:05.244569Z"
    },
    "tags": []
   },
   "outputs": [],
   "source": [
    "from scipy import signal"
   ]
  },
  {
   "cell_type": "code",
   "execution_count": 40,
   "id": "6a89fefa-ce42-422c-ae48-101be1df3f46",
   "metadata": {
    "execution": {
     "iopub.execute_input": "2021-11-23T10:54:46.423768Z",
     "iopub.status.busy": "2021-11-23T10:54:46.423768Z",
     "iopub.status.idle": "2021-11-23T10:54:46.547438Z",
     "shell.execute_reply": "2021-11-23T10:54:46.546441Z",
     "shell.execute_reply.started": "2021-11-23T10:54:46.423768Z"
    },
    "tags": []
   },
   "outputs": [],
   "source": [
    "T = 0.001\n",
    "t = np.arange(0, 10, T)\n",
    "xt = (np.exp(-np.power(t - 4, 2) / 1.5) * np.cos(2 * np.pi * 8 * t) +\n",
    "      np.exp(-np.power(t - 6, 2) / 1.5) * np.cos(2 * np.pi * 12 * t))\n",
    "xtn = xt + 0.5 * np.random.randn(len(t)) + np.cumsum(0.025 * np.random.randn(len(t)))\n",
    "np.savetxt(f\"{outdir}/signal.csv\", xtn, fmt='%10.10f', delimiter=',', newline='\\n', header=\"signal\")"
   ]
  },
  {
   "cell_type": "code",
   "execution_count": 41,
   "id": "07b66b88-4341-4505-bd57-e56b8b5a94a9",
   "metadata": {
    "execution": {
     "iopub.execute_input": "2021-11-23T10:54:46.673163Z",
     "iopub.status.busy": "2021-11-23T10:54:46.672168Z",
     "iopub.status.idle": "2021-11-23T10:54:46.901552Z",
     "shell.execute_reply": "2021-11-23T10:54:46.900555Z",
     "shell.execute_reply.started": "2021-11-23T10:54:46.673163Z"
    },
    "tags": []
   },
   "outputs": [
    {
     "data": {
      "text/plain": [
       "[<matplotlib.lines.Line2D at 0x14d73a90ca0>]"
      ]
     },
     "execution_count": 41,
     "metadata": {},
     "output_type": "execute_result"
    },
    {
     "data": {
      "image/png": "[encoded data removed]",
      "text/plain": [
       "<Figure size 432x288 with 1 Axes>"
      ]
     },
     "metadata": {
      "needs_background": "light"
     },
     "output_type": "display_data"
    }
   ],
   "source": [
    "plot(xtn)"
   ]
  }
 ],
 "metadata": {
  "kernelspec": {
   "display_name": "Python 3",
   "language": "python",
   "name": "python3"
  },
  "language_info": {
   "codemirror_mode": {
    "name": "ipython",
    "version": 3
   },
   "file_extension": ".py",
   "mimetype": "text/x-python",
   "name": "python",
   "nbconvert_exporter": "python",
   "pygments_lexer": "ipython3",
   "version": "3.8.8"
  }
 },
 "nbformat": 4,
 "nbformat_minor": 5
}
