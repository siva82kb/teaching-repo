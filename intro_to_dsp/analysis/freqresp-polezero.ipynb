{
 "cells": [
  {
   "cell_type": "code",
   "execution_count": 1,
   "id": "2896c46a",
   "metadata": {
    "execution": {
     "iopub.execute_input": "2021-12-02T04:23:40.479446Z",
     "iopub.status.busy": "2021-12-02T04:23:40.479446Z",
     "iopub.status.idle": "2021-12-02T04:23:47.660936Z",
     "shell.execute_reply": "2021-12-02T04:23:47.660936Z",
     "shell.execute_reply.started": "2021-12-02T04:23:40.479446Z"
    },
    "tags": []
   },
   "outputs": [
    {
     "name": "stdout",
     "output_type": "stream",
     "text": [
      "Using matplotlib backend: Qt5Agg\n",
      "Populating the interactive namespace from numpy and matplotlib\n"
     ]
    }
   ],
   "source": [
    "%pylab"
   ]
  },
  {
   "cell_type": "code",
   "execution_count": 2,
   "id": "6756d573-15e0-4701-aa00-4d02e9df9668",
   "metadata": {
    "execution": {
     "iopub.execute_input": "2021-12-02T04:23:47.660936Z",
     "iopub.status.busy": "2021-12-02T04:23:47.660936Z",
     "iopub.status.idle": "2021-12-02T04:23:47.676571Z",
     "shell.execute_reply": "2021-12-02T04:23:47.676571Z",
     "shell.execute_reply.started": "2021-12-02T04:23:47.660936Z"
    },
    "tags": []
   },
   "outputs": [],
   "source": [
    "from mpl_toolkits import mplot3d"
   ]
  },
  {
   "cell_type": "code",
   "execution_count": 3,
   "id": "751cb725",
   "metadata": {
    "execution": {
     "iopub.execute_input": "2021-12-02T04:23:47.676571Z",
     "iopub.status.busy": "2021-12-02T04:23:47.676571Z",
     "iopub.status.idle": "2021-12-02T04:23:47.692650Z",
     "shell.execute_reply": "2021-12-02T04:23:47.692650Z",
     "shell.execute_reply.started": "2021-12-02T04:23:47.676571Z"
    },
    "tags": []
   },
   "outputs": [],
   "source": [
    "outdir = \"output/freqresppolezero/\""
   ]
  },
  {
   "cell_type": "markdown",
   "id": "96a4cc51-1627-42ac-921f-3c2cd615f931",
   "metadata": {},
   "source": [
    "## Interactive pole-zero selector"
   ]
  },
  {
   "cell_type": "code",
   "execution_count": 4,
   "id": "b539b161-1f7c-492d-a06b-be2bb415bfa8",
   "metadata": {
    "execution": {
     "iopub.execute_input": "2021-12-02T04:23:47.692650Z",
     "iopub.status.busy": "2021-12-02T04:23:47.692650Z",
     "iopub.status.idle": "2021-12-02T04:23:47.723930Z",
     "shell.execute_reply": "2021-12-02T04:23:47.723930Z",
     "shell.execute_reply.started": "2021-12-02T04:23:47.692650Z"
    },
    "tags": []
   },
   "outputs": [],
   "source": [
    "def add_polezero(pz, pt):\n",
    "    # Check if the point has a y component.\n",
    "    pt[1] = pt[1] if np.abs(pt[1]) > 0.01 else 0\n",
    "    if pt[1] != 0:\n",
    "        pz.append(pt[0] + pt[1] * 1j)\n",
    "        pz.append(pt[0] - pt[1] * 1j)\n",
    "    else:\n",
    "        pz.append(pt[0])\n",
    "    return pz"
   ]
  },
  {
   "cell_type": "code",
   "execution_count": 14,
   "id": "ff8b468b-a59c-4706-a346-a3cfea3863e0",
   "metadata": {
    "execution": {
     "iopub.execute_input": "2021-12-02T04:58:14.642239Z",
     "iopub.status.busy": "2021-12-02T04:58:14.642239Z",
     "iopub.status.idle": "2021-12-02T04:58:17.285358Z",
     "shell.execute_reply": "2021-12-02T04:58:17.285358Z",
     "shell.execute_reply.started": "2021-12-02T04:58:14.642239Z"
    },
    "tags": []
   },
   "outputs": [
    {
     "name": "stdout",
     "output_type": "stream",
     "text": [
      "[0.15161290322580623]\n",
      "[0]\n",
      "[0.15161290322580623, 0.15131578947368407]\n",
      "[0, 0]\n",
      "[(0.14920634920634934-0.032146749001089825j), (0.14920634920634934+0.032146749001089825j)]\n",
      "[0]\n",
      "[0.14920634920634934]\n",
      "[0]\n",
      "[0.14920634920634934, 0.14920634920634934]\n",
      "[0, 0]\n",
      "[0.14920634920634934, 0.14920634920634934, (0.34031746031746035+0.6024791136941519j), (0.34031746031746035-0.6024791136941519j)]\n",
      "[0, 0, 0]\n",
      "[0.3210526315789477]\n",
      "[0]\n",
      "[0.3210526315789477, 0.32105263157894726]\n",
      "[0, 0]\n",
      "[]\n",
      "[1.0]\n",
      "[]\n",
      "[1.0, -1.0052631578947366]\n",
      "[(-0.0052631578947368585+0.7002457002457003j), (-0.0052631578947368585-0.7002457002457003j)]\n",
      "[1.0, -1.0052631578947366, 0]\n",
      "[]\n",
      "[-1.0052631578947369]\n",
      "[]\n",
      "[-1.0052631578947369, 1.0000000000000004]\n",
      "[(0.46842105263157885+0.6836609336609336j), (0.46842105263157885-0.6836609336609336j)]\n",
      "[-1.0052631578947369, 1.0000000000000004, 0]\n",
      "[]\n",
      "[(-0.9947368421052631+0.014742014742014975j), (-0.9947368421052631-0.014742014742014975j)]\n",
      "[]\n",
      "[-1.0052631578947366]\n",
      "[]\n",
      "[-1.0052631578947366, 0.9947368421052629]\n",
      "[(-0.331578947368421+0.8273955773955777j), (-0.331578947368421-0.8273955773955777j)]\n",
      "[-1.0052631578947366, 0.9947368421052629, 0]\n"
     ]
    }
   ],
   "source": [
    "# Poles and zeros of the system\n",
    "allpoles = []\n",
    "allzeros = []\n",
    "state_zmag = True\n",
    "\n",
    "# Z plane pole-zero plot.\n",
    "fig_pz = figure(\"z plane\", figsize=(6, 6))\n",
    "ax_pz = fig_pz.add_subplot(1, 1, 1)\n",
    "\n",
    "# Magnitude of z transform\n",
    "fig_zmag = figure(\"z transform magnitude\", figsize=(6, 6))\n",
    "ax_zmag = plt.axes(projection='3d')\n",
    "\n",
    "# Frequency response\n",
    "fig_fs = figure(\"Frequency Response\", figsize=(8, 4))\n",
    "ax_fs = fig_fs.add_subplot(1, 1, 1)\n",
    "\n",
    "def onclick(event):\n",
    "    global allpoles\n",
    "    global allzeros\n",
    "    # Act only when there is a single click.\n",
    "    if event.dblclick is True:\n",
    "        return\n",
    "    \n",
    "    # Act according to the state.\n",
    "    if event.button == 1:\n",
    "        allpoles = add_polezero(allpoles, [event.xdata, event.ydata])\n",
    "        allzeros = add_polezero(allzeros, [0, 0])\n",
    "    elif event.button == 3:\n",
    "        allzeros = add_polezero(allzeros, [event.xdata, event.ydata])\n",
    "    print(allpoles)\n",
    "    print(allzeros)\n",
    "    # Update plot\n",
    "    updateplots()\n",
    "\n",
    "def onkeyrelease(event):\n",
    "    global allzeros\n",
    "    global allpoles\n",
    "    # Set current state.\n",
    "    if event.key == \"c\":\n",
    "        allpoles = []\n",
    "        allzeros = []\n",
    "    updateplots()\n",
    "    \n",
    "\n",
    "def onkeyrelease_zmag(event):\n",
    "    global state_zmag\n",
    "    # Set current state.\n",
    "    if event.key == \"c\":\n",
    "        state_zmag = not state_zmag\n",
    "    updateplots()\n",
    "\n",
    "def get_zmag(x, y):\n",
    "    # Zero components.\n",
    "    numcomps = [np.abs(x + y * 1j - _z) for _z in allzeros]\n",
    "    num = np.ones(x.shape)\n",
    "    for _n in numcomps:\n",
    "        num *= _n\n",
    "    # Pole components\n",
    "    dencomps = [np.abs(x + y * 1j - _p) for _p in allpoles]\n",
    "    den = np.ones(x.shape)\n",
    "    for _d in dencomps:\n",
    "        den *= _d\n",
    "    _H = num / den\n",
    "    return _H\n",
    "\n",
    "\n",
    "def update_polezero_plot():\n",
    "    _t = np.linspace(-np.pi, np.pi, 720)\n",
    "    ax_pz.clear()\n",
    "    ax_pz.plot(cos(_t), sin(_t), lw=1, color=\"k\")\n",
    "    ax_pz.axhline(0, lw=2, color=\"k\", alpha=0.3)\n",
    "    ax_pz.axvline(0, lw=2, color=\"k\", alpha=0.3)\n",
    "    ax_pz.set_xlim([-1.5, 1.5])\n",
    "    ax_pz.set_ylim([-1.5, 1.5])\n",
    "    ax_pz.get_xaxis().set_ticks([])\n",
    "    ax_pz.get_yaxis().set_ticks([])\n",
    "    ax_pz.spines['right'].set_visible(False)\n",
    "    ax_pz.spines['top'].set_visible(False)\n",
    "    ax_pz.spines['left'].set_visible(False)\n",
    "    ax_pz.spines['bottom'].set_visible(False)\n",
    "    ax_pz.set_title(\"z plane\", fontsize=18)\n",
    "    for _z in allzeros:\n",
    "        ax_pz.plot(_z.real, _z.imag, 'o', color=\"k\")\n",
    "    for _p in allpoles:\n",
    "        ax_pz.plot(_p.real, _p.imag, 'x', color=\"k\")\n",
    "    \n",
    "    fig_pz.canvas.draw()\n",
    "    fig_pz.canvas.flush_events()\n",
    "\n",
    "    \n",
    "def update_zmag_plot():\n",
    "    _t = np.linspace(-np.pi, np.pi, 720)\n",
    "    # Compute the magnitude of the z transform.\n",
    "    if state_zmag is True:\n",
    "        N = 120\n",
    "        x = np.outer(np.linspace(-1.5, 1.5, N), np.ones(N))\n",
    "        y = x.copy().T # transpose\n",
    "    else:\n",
    "        N = 60\n",
    "        theta = np.linspace(-np.pi, np.pi, N)\n",
    "        r = np.linspace(0, 1, N)\n",
    "        r, theta = np.meshgrid(r, theta)\n",
    "        x = r * np.cos(theta)\n",
    "        y = r * np.sin(theta)\n",
    "    \n",
    "    Hmag = get_zmag(x, y)\n",
    "    \n",
    "    # Update the z transform magnitude\n",
    "    ax_zmag.clear()\n",
    "    ax_zmag.plot_surface(x, y, Hmag, alpha=0.8, linewidth=0,\n",
    "                         antialiased=True)\n",
    "    ax_zmag.xaxis.set_pane_color((1.0, 1.0, 1.0, 0.0))\n",
    "    ax_zmag.yaxis.set_pane_color((1.0, 1.0, 1.0, 0.0))\n",
    "    ax_zmag.zaxis.set_pane_color((1.0, 1.0, 1.0, 0.0))\n",
    "    # make the grid lines transparent\n",
    "    ax_zmag.xaxis._axinfo[\"grid\"]['color'] =  (1,1,1,0)\n",
    "    ax_zmag.yaxis._axinfo[\"grid\"]['color'] =  (1,1,1,0)\n",
    "    ax_zmag.zaxis._axinfo[\"grid\"]['color'] =  (1,1,1,0)\n",
    "    ax_zmag.set_xlabel(r'$\\Re\\, z$', fontsize=20)\n",
    "    ax_zmag.set_ylabel(r'$\\Im\\, z$', fontsize=20)\n",
    "    ax_zmag.set_zlabel(r'$\\vert H(z) \\vert$', fontsize=20)\n",
    "    ax_zmag.set_xlim(-1.6, 1.6)\n",
    "    ax_zmag.set_ylim(-1.6, 1.6)\n",
    "    ax_zmag.set_zlim(1 - 0.01 * np.max(Hmag), 1 + 0.5 * np.max(Hmag))\n",
    "    \n",
    "    x = np.cos(_t)\n",
    "    y = np.sin(_t)\n",
    "    Hcirc = get_zmag(x, y)\n",
    "    ax_zmag.plot3D(x, y, Hcirc, 'red', lw=3)\n",
    "    \n",
    "    fig_zmag.canvas.draw()\n",
    "    fig_zmag.canvas.flush_events()\n",
    "\n",
    "\n",
    "def update_freqresp_plot():\n",
    "    # Frequency Response\n",
    "    _t = np.linspace(-np.pi, np.pi, 720)\n",
    "    x = np.cos(_t)\n",
    "    y = np.sin(_t)\n",
    "    Hcirc = get_zmag(x, y)\n",
    "    ax_fs.clear()\n",
    "    ax_fs.grid(color='0.8', linestyle='--', linewidth=0.5);\n",
    "    ax_fs.plot(_t, Hcirc / np.max(Hcirc), color=\"k\", lw=2)\n",
    "    ax_fs.set_xlim(-np.pi, np.pi)\n",
    "    ax_fs.set_xlabel(r\"$\\Omega$\", fontsize=20)\n",
    "    ax_fs.set_ylabel(r\"$\\vert H(\\Omega)\\vert$\", fontsize=20)\n",
    "    ax_fs.set_title(\"Frequency Response\", fontsize=20)\n",
    "    xticks(fontsize=18)\n",
    "    yticks(fontsize=18)\n",
    "    \n",
    "    fig_fs.canvas.draw()\n",
    "    fig_fs.canvas.flush_events()\n",
    "    \n",
    "    plt.tight_layout()\n",
    "\n",
    "    \n",
    "def updateplots():\n",
    "    update_polezero_plot()\n",
    "    update_zmag_plot()\n",
    "    update_freqresp_plot()\n",
    "\n",
    "updateplots()\n",
    "\n",
    "# Handle events from the pole-zero plots\n",
    "cid1 = fig_pz.canvas.mpl_connect('button_press_event', onclick)\n",
    "cid2 = fig_pz.canvas.mpl_connect('key_release_event', onkeyrelease)\n",
    "\n",
    "# Handle events from the z transform magnitude plot.\n",
    "cid3 = fig_zmag.canvas.mpl_connect('key_release_event', onkeyrelease_zmag)"
   ]
  },
  {
   "cell_type": "code",
   "execution_count": 12,
   "id": "6875b202-9e93-4fe7-980b-9217a07b78be",
   "metadata": {
    "execution": {
     "iopub.execute_input": "2021-12-02T04:50:57.828939Z",
     "iopub.status.busy": "2021-12-02T04:50:57.828939Z",
     "iopub.status.idle": "2021-12-02T04:50:57.843897Z",
     "shell.execute_reply": "2021-12-02T04:50:57.842902Z",
     "shell.execute_reply.started": "2021-12-02T04:50:57.828939Z"
    },
    "tags": []
   },
   "outputs": [],
   "source": [
    "a = c = np.sqrt(2) - 1\n",
    "b = -2 * np.sqrt(2)"
   ]
  },
  {
   "cell_type": "code",
   "execution_count": 13,
   "id": "d75f8a5f-6550-47a0-bf54-ef617e304e02",
   "metadata": {
    "execution": {
     "iopub.execute_input": "2021-12-02T04:50:58.588701Z",
     "iopub.status.busy": "2021-12-02T04:50:58.588701Z",
     "iopub.status.idle": "2021-12-02T04:50:58.598676Z",
     "shell.execute_reply": "2021-12-02T04:50:58.597677Z",
     "shell.execute_reply.started": "2021-12-02T04:50:58.588701Z"
    },
    "tags": []
   },
   "outputs": [
    {
     "data": {
      "text/plain": [
       "array([6.67869733, 0.1497298 ])"
      ]
     },
     "execution_count": 13,
     "metadata": {},
     "output_type": "execute_result"
    }
   ],
   "source": [
    "np.roots([a, b, c])"
   ]
  },
  {
   "cell_type": "code",
   "execution_count": null,
   "id": "f1c5085f-ed32-4ffd-97ba-c713d1d24c93",
   "metadata": {},
   "outputs": [],
   "source": []
  }
 ],
 "metadata": {
  "interpreter": {
   "hash": "a8f61be024eba58adef938c9aa1e29e02cb3dece83a5348b1a2dafd16a070453"
  },
  "kernelspec": {
   "display_name": "Python 3",
   "language": "python",
   "name": "python3"
  },
  "language_info": {
   "codemirror_mode": {
    "name": "ipython",
    "version": 3
   },
   "file_extension": ".py",
   "mimetype": "text/x-python",
   "name": "python",
   "nbconvert_exporter": "python",
   "pygments_lexer": "ipython3",
   "version": "3.8.8"
  }
 },
 "nbformat": 4,
 "nbformat_minor": 5
}
