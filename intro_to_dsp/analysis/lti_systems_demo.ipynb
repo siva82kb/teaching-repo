{
 "cells": [
  {
   "cell_type": "code",
   "execution_count": 1,
   "id": "collective-flight",
   "metadata": {
    "execution": {
     "iopub.execute_input": "2021-09-15T11:15:23.763746Z",
     "iopub.status.busy": "2021-09-15T11:15:23.762749Z",
     "iopub.status.idle": "2021-09-15T11:15:35.366013Z",
     "shell.execute_reply": "2021-09-15T11:15:35.363021Z",
     "shell.execute_reply.started": "2021-09-15T11:15:23.763746Z"
    }
   },
   "outputs": [
    {
     "name": "stdout",
     "output_type": "stream",
     "text": [
      "Populating the interactive namespace from numpy and matplotlib\n"
     ]
    }
   ],
   "source": [
    "%pylab inline"
   ]
  },
  {
   "cell_type": "code",
   "execution_count": 2,
   "id": "ruled-fleece",
   "metadata": {
    "execution": {
     "iopub.execute_input": "2021-09-15T11:15:35.369004Z",
     "iopub.status.busy": "2021-09-15T11:15:35.368007Z",
     "iopub.status.idle": "2021-09-15T11:15:36.939553Z",
     "shell.execute_reply": "2021-09-15T11:15:36.937558Z",
     "shell.execute_reply.started": "2021-09-15T11:15:35.369004Z"
    }
   },
   "outputs": [],
   "source": [
    "from ipywidgets import interact, interactive, fixed, interact_manual\n",
    "import ipywidgets as widgets"
   ]
  },
  {
   "cell_type": "code",
   "execution_count": 3,
   "id": "tutorial-findings",
   "metadata": {
    "execution": {
     "iopub.execute_input": "2021-09-15T11:16:57.437343Z",
     "iopub.status.busy": "2021-09-15T11:16:57.437343Z",
     "iopub.status.idle": "2021-09-15T11:17:00.266606Z",
     "shell.execute_reply": "2021-09-15T11:17:00.266606Z",
     "shell.execute_reply.started": "2021-09-15T11:16:57.437343Z"
    }
   },
   "outputs": [
    {
     "data": {
      "application/vnd.jupyter.widget-view+json": {
       "model_id": "37134b408aba446bb019c9f555836f8f",
       "version_major": 2,
       "version_minor": 0
      },
      "text/plain": [
       "interactive(children=(FloatSlider(value=0.0, description='m', max=2.0, min=-2.0), FloatSlider(value=0.0, descr…"
      ]
     },
     "metadata": {},
     "output_type": "display_data"
    }
   ],
   "source": [
    "def f(m, b):\n",
    "    plt.figure(2)\n",
    "    x = np.linspace(-10, 10, num=1000)\n",
    "    plt.plot(x, m * x + b)\n",
    "    plt.ylim(-5, 5)\n",
    "    plt.show()\n",
    "\n",
    "interactive_plot = interactive(f, m=(-2.0, 2.0), b=(-3, 3, 0.5))\n",
    "output = interactive_plot.children[-1]\n",
    "output.layout.height = '350px'\n",
    "interactive_plot"
   ]
  },
  {
   "cell_type": "code",
   "execution_count": 35,
   "id": "conditional-raising",
   "metadata": {
    "execution": {
     "iopub.execute_input": "2021-09-15T11:55:13.391395Z",
     "iopub.status.busy": "2021-09-15T11:55:13.391395Z",
     "iopub.status.idle": "2021-09-15T11:55:13.772661Z",
     "shell.execute_reply": "2021-09-15T11:55:13.771664Z",
     "shell.execute_reply.started": "2021-09-15T11:55:13.391395Z"
    },
    "tags": []
   },
   "outputs": [
    {
     "data": {
      "application/vnd.jupyter.widget-view+json": {
       "model_id": "cb1ccab14c9641399c454c02e74089b6",
       "version_major": 2,
       "version_minor": 0
      },
      "text/plain": [
       "interactive(children=(IntSlider(value=-2, description='n', max=50, min=-50), Output()), _dom_classes=('widget-…"
      ]
     },
     "metadata": {},
     "output_type": "display_data"
    }
   ],
   "source": [
    "def plot_conv_sum(n):\n",
    "    fig = plt.figure(figsize=(18, 12))\n",
    "    k = np.arange(N) - n0\n",
    "    ax = fig.add_subplot(411)\n",
    "    ax.stem(k, x)\n",
    "    ax.set_ylim(-0.1, 1.1)\n",
    "    ax.set_xlim(-10, Ndisp-10-1)\n",
    "    ax.set_title(\"Input x[k]\", fontsize=16)\n",
    "    \n",
    "    ax = fig.add_subplot(412)\n",
    "    ax.stem(-k + n, h)\n",
    "    ax.set_ylim(-0.1, 3.1)\n",
    "    ax.set_xlim(-10, Ndisp-10-1)\n",
    "    ax.set_title(\"Impulse Response h[n - k]\", fontsize=16)\n",
    "    \n",
    "    ax = fig.add_subplot(413)\n",
    "    _ktemp = np.arange(max(-n0-n, -n0), min(N-n0-n, N-n0), 1)\n",
    "    _ytemp = np.zeros(len(_ktemp))\n",
    "    _ytemp = x[_ktemp + n0] * h[_ktemp + n0]\n",
    "    print(_ytemp)\n",
    "    ax.stem(_ktemp, _ytemp)\n",
    "    ax.set_ylim(-0.1, 3.1)\n",
    "    ax.set_xlim(-10, Ndisp-10-1)\n",
    "    ax.set_title(\"Impulse Response h[n - k]\", fontsize=16)\n",
    "    \n",
    "    plt.tight_layout()\n",
    "    plt.show()\n",
    "\n",
    "# Params\n",
    "N = 100\n",
    "Ndisp = 40\n",
    "\n",
    "# Input\n",
    "x = np.zeros(N)\n",
    "n0 = 50\n",
    "w = 10\n",
    "x[n0:n0+w] = 1\n",
    "\n",
    "# Impulse response\n",
    "h = np.zeros(N)\n",
    "n0 = 50\n",
    "h[n0] = 3\n",
    "h[n0 + 1] = 2\n",
    "h[n0 + 2] = 1\n",
    "\n",
    "interactive_plot = interactive(plot_conv_sum, n=widgets.IntSlider(value=-2, min=-n0, max=N-n0))\n",
    "output = interactive_plot.children[-1]\n",
    "interactive_plot"
   ]
  },
  {
   "cell_type": "code",
   "execution_count": null,
   "id": "secure-salvation",
   "metadata": {},
   "outputs": [],
   "source": []
  }
 ],
 "metadata": {
  "kernelspec": {
   "display_name": "Python 3",
   "language": "python",
   "name": "python3"
  },
  "language_info": {
   "codemirror_mode": {
    "name": "ipython",
    "version": 3
   },
   "file_extension": ".py",
   "mimetype": "text/x-python",
   "name": "python",
   "nbconvert_exporter": "python",
   "pygments_lexer": "ipython3",
   "version": "3.7.10"
  }
 },
 "nbformat": 4,
 "nbformat_minor": 5
}
