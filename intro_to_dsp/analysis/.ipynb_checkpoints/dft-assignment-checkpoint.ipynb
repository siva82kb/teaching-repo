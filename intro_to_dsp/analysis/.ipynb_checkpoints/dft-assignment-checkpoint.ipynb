{
 "cells": [
  {
   "cell_type": "markdown",
   "id": "1be008dc-4178-4249-ac5a-e192858730cd",
   "metadata": {},
   "source": [
    "---"
   ]
  },
  {
   "cell_type": "code",
   "execution_count": 2,
   "id": "00841f93-be11-4a4f-881c-d9ec00a56f2c",
   "metadata": {
    "execution": {
     "iopub.execute_input": "2021-11-16T09:01:05.692865Z",
     "iopub.status.busy": "2021-11-16T09:01:05.692865Z",
     "iopub.status.idle": "2021-11-16T09:01:14.572735Z",
     "shell.execute_reply": "2021-11-16T09:01:14.569774Z",
     "shell.execute_reply.started": "2021-11-16T09:01:05.692865Z"
    },
    "tags": []
   },
   "outputs": [
    {
     "name": "stdout",
     "output_type": "stream",
     "text": [
      "Populating the interactive namespace from numpy and matplotlib\n"
     ]
    }
   ],
   "source": [
    "%pylab inline"
   ]
  },
  {
   "cell_type": "code",
   "execution_count": 3,
   "id": "61b82c90-d907-4602-907e-53a8211f3b91",
   "metadata": {
    "execution": {
     "iopub.execute_input": "2021-11-16T09:01:14.575723Z",
     "iopub.status.busy": "2021-11-16T09:01:14.575723Z",
     "iopub.status.idle": "2021-11-16T09:01:14.584713Z",
     "shell.execute_reply": "2021-11-16T09:01:14.584713Z",
     "shell.execute_reply.started": "2021-11-16T09:01:14.575723Z"
    },
    "tags": []
   },
   "outputs": [],
   "source": [
    "outdir = \"output/dft/\""
   ]
  },
  {
   "cell_type": "code",
   "execution_count": 155,
   "id": "d709ea1c-ae9b-4d01-890e-ff1b461bcd97",
   "metadata": {
    "execution": {
     "iopub.execute_input": "2021-11-16T09:24:11.684208Z",
     "iopub.status.busy": "2021-11-16T09:24:11.684208Z",
     "iopub.status.idle": "2021-11-16T09:24:11.851133Z",
     "shell.execute_reply": "2021-11-16T09:24:11.851133Z",
     "shell.execute_reply.started": "2021-11-16T09:24:11.684208Z"
    },
    "tags": []
   },
   "outputs": [
    {
     "data": {
      "text/plain": [
       "[<matplotlib.lines.Line2D at 0x207d5039520>]"
      ]
     },
     "execution_count": 155,
     "metadata": {},
     "output_type": "execute_result"
    },
    {
     "data": {
      "image/png": "[encoded data removed]",
      "text/plain": [
       "<Figure size 432x288 with 1 Axes>"
      ]
     },
     "metadata": {
      "needs_background": "light"
     },
     "output_type": "display_data"
    }
   ],
   "source": [
    "Ts = 0.001\n",
    "n = np.arange(0, int(0.5 / Ts))\n",
    "n2 = np.arange(0, int(5 / Ts))\n",
    "Nf = 6\n",
    "freq = np.array([0.134, 0.1355, 0.2512, 0.342, 0.6235, 0.67461]) * np.pi\n",
    "amp = np.random.random(6)\n",
    "xn = np.sum(np.array([_a * np.cos((_f) * n) for _a, _f in zip(amp, freq)]), axis=0)\n",
    "xn2 = np.sum(np.array([_a * np.cos((_f) * n2) for _a, _f in zip(amp, freq)]), axis=0)\n",
    "xn_noise = xn + 0.5 * np.random.randn(len(n))\n",
    "xn2_noise = xn2 + 0.5 * np.random.randn(len(n2))\n",
    "plot(xn2)\n",
    "plot(xn2_noise)\n",
    "# xlim(0, 100)"
   ]
  },
  {
   "cell_type": "code",
   "execution_count": 171,
   "id": "53c894a9-7ebc-44e0-a785-923e236a6f7c",
   "metadata": {
    "execution": {
     "iopub.execute_input": "2021-11-16T09:26:44.947745Z",
     "iopub.status.busy": "2021-11-16T09:26:44.947745Z",
     "iopub.status.idle": "2021-11-16T09:26:44.954706Z",
     "shell.execute_reply": "2021-11-16T09:26:44.954201Z",
     "shell.execute_reply.started": "2021-11-16T09:26:44.947745Z"
    },
    "tags": []
   },
   "outputs": [
    {
     "name": "stdout",
     "output_type": "stream",
     "text": [
      "[0.26347553 0.95180219 0.3995178  0.45745181 0.90914286 0.08330023]\n",
      "[ 67.     67.75  125.6   171.    311.75  337.305] Hz\n"
     ]
    }
   ],
   "source": [
    "print(amp)\n",
    "print(freq * (0.5 / (np.pi * Ts)), \"Hz\")"
   ]
  },
  {
   "cell_type": "code",
   "execution_count": 195,
   "id": "2f71c558-f4fa-4929-bbb7-dd29da3c1cf6",
   "metadata": {
    "execution": {
     "iopub.execute_input": "2021-11-16T09:45:46.064677Z",
     "iopub.status.busy": "2021-11-16T09:45:46.064677Z",
     "iopub.status.idle": "2021-11-16T09:45:46.108673Z",
     "shell.execute_reply": "2021-11-16T09:45:46.108673Z",
     "shell.execute_reply.started": "2021-11-16T09:45:46.064677Z"
    },
    "tags": []
   },
   "outputs": [],
   "source": [
    "np.savetxt(f\"{outdir}/signaldata.csv\", xn2_noise, fmt='%10.10f', delimiter=',', newline='\\n', header=\"signal\")\n",
    "np.savetxt(f\"{outdir}/signaldetails.csv\", np.array([freq * (0.5 / (np.pi * Ts)), amp]).T, fmt='%10.6f', delimiter=',', newline='\\n', header=\"frequency, amplitude\")"
   ]
  },
  {
   "cell_type": "code",
   "execution_count": 194,
   "id": "3515d944-9e30-4999-9e43-9b1fea9543ec",
   "metadata": {
    "execution": {
     "iopub.execute_input": "2021-11-16T09:43:24.513631Z",
     "iopub.status.busy": "2021-11-16T09:43:24.513631Z",
     "iopub.status.idle": "2021-11-16T09:43:24.537568Z",
     "shell.execute_reply": "2021-11-16T09:43:24.537568Z",
     "shell.execute_reply.started": "2021-11-16T09:43:24.513631Z"
    },
    "tags": []
   },
   "outputs": [
    {
     "data": {
      "text/plain": [
       "array([[6.70000e+01, 2.63476e-01],\n",
       "       [6.77500e+01, 9.51802e-01],\n",
       "       [1.25600e+02, 3.99518e-01],\n",
       "       [1.71000e+02, 4.57452e-01],\n",
       "       [3.11750e+02, 9.09143e-01],\n",
       "       [3.37305e+02, 8.33000e-02]])"
      ]
     },
     "execution_count": 194,
     "metadata": {},
     "output_type": "execute_result"
    }
   ],
   "source": [
    "_data = numpy.loadtxt(\"signaldata.csv\", dtype='float', comments='#', delimiter=\",\", skiprows=0)\n",
    "numpy.loadtxt(\"signaldetails.csv\", dtype='float', comments='#', delimiter=\",\", skiprows=0)"
   ]
  }
 ],
 "metadata": {
  "interpreter": {
   "hash": "a8f61be024eba58adef938c9aa1e29e02cb3dece83a5348b1a2dafd16a070453"
  },
  "kernelspec": {
   "display_name": "Python 3",
   "language": "python",
   "name": "python3"
  },
  "language_info": {
   "codemirror_mode": {
    "name": "ipython",
    "version": 3
   },
   "file_extension": ".py",
   "mimetype": "text/x-python",
   "name": "python",
   "nbconvert_exporter": "python",
   "pygments_lexer": "ipython3",
   "version": "3.8.8"
  }
 },
 "nbformat": 4,
 "nbformat_minor": 5
}
